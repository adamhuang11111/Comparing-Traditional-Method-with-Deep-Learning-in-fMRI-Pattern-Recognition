{
 "cells": [
  {
   "cell_type": "code",
   "execution_count": 205,
   "metadata": {},
   "outputs": [
    {
     "name": "stdout",
     "output_type": "stream",
     "text": [
      "The autoreload extension is already loaded. To reload it, use:\n",
      "  %reload_ext autoreload\n"
     ]
    }
   ],
   "source": [
    "%load_ext autoreload\n",
    "%autoreload\n",
    "import model as md\n",
    "import utilities as ut\n",
    "import numpy as np\n",
    "import keras \n",
    "import tensorflow as tf\n",
    "import matplotlib.pyplot as plt\n",
    "import os\n",
    "import pandas as pd\n",
    "from sklearn.model_selection import train_test_split\n",
    "from keras.models import Model\n",
    "from keras.layers.core import Dense, Dropout, Activation, Flatten"
   ]
  },
  {
   "cell_type": "code",
   "execution_count": 7,
   "metadata": {},
   "outputs": [],
   "source": [
    "beijing_subjects = os.listdir('fmri')\n",
    "beijing_subjects.remove('.DS_Store')\n",
    "ohsu_subjects = os.listdir('../ohsu_test_output_nifty/fmri')\n",
    "nyu_subjects = os.listdir('../nyu_test_output_nifty/fmri_nyu_test')"
   ]
  },
  {
   "cell_type": "code",
   "execution_count": 8,
   "metadata": {},
   "outputs": [],
   "source": [
    "data_beijing = []\n",
    "for filename in beijing_subjects:\n",
    "    data_beijing.append(ut.img_get_data('fmri/' + filename))\n",
    "variance_beijing = []\n",
    "for subject in data_beijing:\n",
    "    variance_beijing.append(ut.variance(subject))\n",
    "variance_beijing = np.array(variance_beijing)"
   ]
  },
  {
   "cell_type": "code",
   "execution_count": 9,
   "metadata": {},
   "outputs": [],
   "source": [
    "data_ohsu = []\n",
    "for filename in ohsu_subjects:\n",
    "    data_ohsu.append(ut.img_get_data('../ohsu_test_output_nifty/fmri/' + filename))\n",
    "variance_ohsu = []\n",
    "for subject in data_ohsu:\n",
    "    variance_ohsu.append(ut.variance(subject))\n",
    "variance_ohsu = np.array(variance_ohsu)"
   ]
  },
  {
   "cell_type": "code",
   "execution_count": 10,
   "metadata": {},
   "outputs": [],
   "source": [
    "data_nyu = []\n",
    "for filename in nyu_subjects:\n",
    "    data_nyu.append(ut.img_get_data('../nyu_test_output_nifty/fmri_nyu_test/' + filename))\n",
    "data_nyu = np.array(data_nyu)\n",
    "variance_nyu = []\n",
    "for subject in data_nyu:\n",
    "    variance_nyu.append(ut.variance(subject))\n",
    "variance_nyu = np.array(variance_nyu)"
   ]
  },
  {
   "cell_type": "code",
   "execution_count": 11,
   "metadata": {},
   "outputs": [
    {
     "data": {
      "text/plain": [
       "(41, 53, 64, 46)"
      ]
     },
     "execution_count": 11,
     "metadata": {},
     "output_type": "execute_result"
    }
   ],
   "source": [
    "variance_nyu.shape"
   ]
  },
  {
   "cell_type": "code",
   "execution_count": 12,
   "metadata": {},
   "outputs": [],
   "source": [
    "variance_total = np.append(variance_beijing, variance_nyu, axis = 0)\n",
    "variance_total = np.append(variance_total, variance_ohsu, axis = 0)"
   ]
  },
  {
   "cell_type": "code",
   "execution_count": 13,
   "metadata": {},
   "outputs": [],
   "source": [
    "final_tab = pd.read_csv(\"final_table.csv\")"
   ]
  },
  {
   "cell_type": "code",
   "execution_count": 14,
   "metadata": {},
   "outputs": [
    {
     "data": {
      "text/html": [
       "<div>\n",
       "<style scoped>\n",
       "    .dataframe tbody tr th:only-of-type {\n",
       "        vertical-align: middle;\n",
       "    }\n",
       "\n",
       "    .dataframe tbody tr th {\n",
       "        vertical-align: top;\n",
       "    }\n",
       "\n",
       "    .dataframe thead th {\n",
       "        text-align: right;\n",
       "    }\n",
       "</style>\n",
       "<table border=\"1\" class=\"dataframe\">\n",
       "  <thead>\n",
       "    <tr style=\"text-align: right;\">\n",
       "      <th></th>\n",
       "      <th>Unnamed: 0</th>\n",
       "      <th>ScanDir ID</th>\n",
       "      <th>Site</th>\n",
       "      <th>Gender</th>\n",
       "      <th>Age</th>\n",
       "      <th>Handedness</th>\n",
       "      <th>DX</th>\n",
       "      <th>Secondary Dx</th>\n",
       "      <th>ADHD Measure</th>\n",
       "      <th>ADHD Index</th>\n",
       "      <th>Inattentive</th>\n",
       "      <th>Hyper/Impulsive</th>\n",
       "      <th>IQ Measure</th>\n",
       "      <th>Verbal IQ</th>\n",
       "      <th>Performance IQ</th>\n",
       "      <th>Full2 IQ</th>\n",
       "      <th>Full4 IQ</th>\n",
       "      <th>Med Status</th>\n",
       "      <th>QC_Athena</th>\n",
       "      <th>QC_NIAK</th>\n",
       "    </tr>\n",
       "  </thead>\n",
       "  <tbody>\n",
       "    <tr>\n",
       "      <td>0</td>\n",
       "      <td>776</td>\n",
       "      <td>1038415</td>\n",
       "      <td>1</td>\n",
       "      <td>1.0</td>\n",
       "      <td>14.92</td>\n",
       "      <td>1</td>\n",
       "      <td>3</td>\n",
       "      <td>ODD</td>\n",
       "      <td>1.0</td>\n",
       "      <td>52.0</td>\n",
       "      <td>34.0</td>\n",
       "      <td>18.0</td>\n",
       "      <td>3.0</td>\n",
       "      <td>109.0</td>\n",
       "      <td>103.0</td>\n",
       "      <td>-999.0</td>\n",
       "      <td>107.0</td>\n",
       "      <td>1.0</td>\n",
       "      <td>0.0</td>\n",
       "      <td>0.0</td>\n",
       "    </tr>\n",
       "    <tr>\n",
       "      <td>1</td>\n",
       "      <td>777</td>\n",
       "      <td>1201251</td>\n",
       "      <td>1</td>\n",
       "      <td>1.0</td>\n",
       "      <td>12.33</td>\n",
       "      <td>1</td>\n",
       "      <td>3</td>\n",
       "      <td>NaN</td>\n",
       "      <td>1.0</td>\n",
       "      <td>49.0</td>\n",
       "      <td>28.0</td>\n",
       "      <td>21.0</td>\n",
       "      <td>3.0</td>\n",
       "      <td>115.0</td>\n",
       "      <td>103.0</td>\n",
       "      <td>-999.0</td>\n",
       "      <td>110.0</td>\n",
       "      <td>2.0</td>\n",
       "      <td>1.0</td>\n",
       "      <td>1.0</td>\n",
       "    </tr>\n",
       "    <tr>\n",
       "      <td>2</td>\n",
       "      <td>778</td>\n",
       "      <td>1245758</td>\n",
       "      <td>1</td>\n",
       "      <td>0.0</td>\n",
       "      <td>8.58</td>\n",
       "      <td>1</td>\n",
       "      <td>0</td>\n",
       "      <td>NaN</td>\n",
       "      <td>1.0</td>\n",
       "      <td>35.0</td>\n",
       "      <td>20.0</td>\n",
       "      <td>15.0</td>\n",
       "      <td>3.0</td>\n",
       "      <td>121.0</td>\n",
       "      <td>88.0</td>\n",
       "      <td>-999.0</td>\n",
       "      <td>106.0</td>\n",
       "      <td>1.0</td>\n",
       "      <td>1.0</td>\n",
       "      <td>1.0</td>\n",
       "    </tr>\n",
       "    <tr>\n",
       "      <td>3</td>\n",
       "      <td>779</td>\n",
       "      <td>1253411</td>\n",
       "      <td>1</td>\n",
       "      <td>1.0</td>\n",
       "      <td>8.08</td>\n",
       "      <td>1</td>\n",
       "      <td>0</td>\n",
       "      <td>NaN</td>\n",
       "      <td>1.0</td>\n",
       "      <td>35.0</td>\n",
       "      <td>19.0</td>\n",
       "      <td>16.0</td>\n",
       "      <td>3.0</td>\n",
       "      <td>119.0</td>\n",
       "      <td>106.0</td>\n",
       "      <td>-999.0</td>\n",
       "      <td>114.0</td>\n",
       "      <td>1.0</td>\n",
       "      <td>1.0</td>\n",
       "      <td>1.0</td>\n",
       "    </tr>\n",
       "    <tr>\n",
       "      <td>4</td>\n",
       "      <td>780</td>\n",
       "      <td>1419103</td>\n",
       "      <td>1</td>\n",
       "      <td>0.0</td>\n",
       "      <td>9.92</td>\n",
       "      <td>1</td>\n",
       "      <td>0</td>\n",
       "      <td>NaN</td>\n",
       "      <td>1.0</td>\n",
       "      <td>41.0</td>\n",
       "      <td>22.0</td>\n",
       "      <td>19.0</td>\n",
       "      <td>3.0</td>\n",
       "      <td>124.0</td>\n",
       "      <td>76.0</td>\n",
       "      <td>-999.0</td>\n",
       "      <td>102.0</td>\n",
       "      <td>1.0</td>\n",
       "      <td>1.0</td>\n",
       "      <td>1.0</td>\n",
       "    </tr>\n",
       "    <tr>\n",
       "      <td>...</td>\n",
       "      <td>...</td>\n",
       "      <td>...</td>\n",
       "      <td>...</td>\n",
       "      <td>...</td>\n",
       "      <td>...</td>\n",
       "      <td>...</td>\n",
       "      <td>...</td>\n",
       "      <td>...</td>\n",
       "      <td>...</td>\n",
       "      <td>...</td>\n",
       "      <td>...</td>\n",
       "      <td>...</td>\n",
       "      <td>...</td>\n",
       "      <td>...</td>\n",
       "      <td>...</td>\n",
       "      <td>...</td>\n",
       "      <td>...</td>\n",
       "      <td>...</td>\n",
       "      <td>...</td>\n",
       "      <td>...</td>\n",
       "    </tr>\n",
       "    <tr>\n",
       "      <td>120</td>\n",
       "      <td>959</td>\n",
       "      <td>23038</td>\n",
       "      <td>6</td>\n",
       "      <td>1.0</td>\n",
       "      <td>9.33</td>\n",
       "      <td>1</td>\n",
       "      <td>0</td>\n",
       "      <td>NaN</td>\n",
       "      <td>NaN</td>\n",
       "      <td>NaN</td>\n",
       "      <td>NaN</td>\n",
       "      <td>NaN</td>\n",
       "      <td>2.0</td>\n",
       "      <td>NaN</td>\n",
       "      <td>NaN</td>\n",
       "      <td>NaN</td>\n",
       "      <td>124.0</td>\n",
       "      <td>NaN</td>\n",
       "      <td>1.0</td>\n",
       "      <td>1.0</td>\n",
       "    </tr>\n",
       "    <tr>\n",
       "      <td>121</td>\n",
       "      <td>960</td>\n",
       "      <td>23039</td>\n",
       "      <td>6</td>\n",
       "      <td>1.0</td>\n",
       "      <td>11.17</td>\n",
       "      <td>1</td>\n",
       "      <td>0</td>\n",
       "      <td>NaN</td>\n",
       "      <td>NaN</td>\n",
       "      <td>NaN</td>\n",
       "      <td>NaN</td>\n",
       "      <td>NaN</td>\n",
       "      <td>2.0</td>\n",
       "      <td>NaN</td>\n",
       "      <td>NaN</td>\n",
       "      <td>NaN</td>\n",
       "      <td>114.0</td>\n",
       "      <td>NaN</td>\n",
       "      <td>1.0</td>\n",
       "      <td>1.0</td>\n",
       "    </tr>\n",
       "    <tr>\n",
       "      <td>122</td>\n",
       "      <td>961</td>\n",
       "      <td>23040</td>\n",
       "      <td>6</td>\n",
       "      <td>0.0</td>\n",
       "      <td>7.50</td>\n",
       "      <td>1</td>\n",
       "      <td>0</td>\n",
       "      <td>NaN</td>\n",
       "      <td>NaN</td>\n",
       "      <td>NaN</td>\n",
       "      <td>NaN</td>\n",
       "      <td>NaN</td>\n",
       "      <td>2.0</td>\n",
       "      <td>NaN</td>\n",
       "      <td>NaN</td>\n",
       "      <td>NaN</td>\n",
       "      <td>126.0</td>\n",
       "      <td>NaN</td>\n",
       "      <td>1.0</td>\n",
       "      <td>1.0</td>\n",
       "    </tr>\n",
       "    <tr>\n",
       "      <td>123</td>\n",
       "      <td>962</td>\n",
       "      <td>23041</td>\n",
       "      <td>6</td>\n",
       "      <td>0.0</td>\n",
       "      <td>9.92</td>\n",
       "      <td>1</td>\n",
       "      <td>0</td>\n",
       "      <td>NaN</td>\n",
       "      <td>NaN</td>\n",
       "      <td>NaN</td>\n",
       "      <td>NaN</td>\n",
       "      <td>NaN</td>\n",
       "      <td>2.0</td>\n",
       "      <td>NaN</td>\n",
       "      <td>NaN</td>\n",
       "      <td>NaN</td>\n",
       "      <td>128.5</td>\n",
       "      <td>NaN</td>\n",
       "      <td>1.0</td>\n",
       "      <td>1.0</td>\n",
       "    </tr>\n",
       "    <tr>\n",
       "      <td>124</td>\n",
       "      <td>963</td>\n",
       "      <td>23042</td>\n",
       "      <td>6</td>\n",
       "      <td>0.0</td>\n",
       "      <td>8.08</td>\n",
       "      <td>1</td>\n",
       "      <td>0</td>\n",
       "      <td>NaN</td>\n",
       "      <td>NaN</td>\n",
       "      <td>NaN</td>\n",
       "      <td>NaN</td>\n",
       "      <td>NaN</td>\n",
       "      <td>2.0</td>\n",
       "      <td>NaN</td>\n",
       "      <td>NaN</td>\n",
       "      <td>NaN</td>\n",
       "      <td>98.0</td>\n",
       "      <td>NaN</td>\n",
       "      <td>1.0</td>\n",
       "      <td>1.0</td>\n",
       "    </tr>\n",
       "  </tbody>\n",
       "</table>\n",
       "<p>125 rows × 20 columns</p>\n",
       "</div>"
      ],
      "text/plain": [
       "     Unnamed: 0  ScanDir ID  Site  Gender    Age Handedness  DX Secondary Dx  \\\n",
       "0           776     1038415     1     1.0  14.92          1   3          ODD   \n",
       "1           777     1201251     1     1.0  12.33          1   3          NaN   \n",
       "2           778     1245758     1     0.0   8.58          1   0          NaN   \n",
       "3           779     1253411     1     1.0   8.08          1   0          NaN   \n",
       "4           780     1419103     1     0.0   9.92          1   0          NaN   \n",
       "..          ...         ...   ...     ...    ...        ...  ..          ...   \n",
       "120         959       23038     6     1.0   9.33          1   0          NaN   \n",
       "121         960       23039     6     1.0  11.17          1   0          NaN   \n",
       "122         961       23040     6     0.0   7.50          1   0          NaN   \n",
       "123         962       23041     6     0.0   9.92          1   0          NaN   \n",
       "124         963       23042     6     0.0   8.08          1   0          NaN   \n",
       "\n",
       "     ADHD Measure  ADHD Index  Inattentive  Hyper/Impulsive  IQ Measure  \\\n",
       "0             1.0        52.0         34.0             18.0         3.0   \n",
       "1             1.0        49.0         28.0             21.0         3.0   \n",
       "2             1.0        35.0         20.0             15.0         3.0   \n",
       "3             1.0        35.0         19.0             16.0         3.0   \n",
       "4             1.0        41.0         22.0             19.0         3.0   \n",
       "..            ...         ...          ...              ...         ...   \n",
       "120           NaN         NaN          NaN              NaN         2.0   \n",
       "121           NaN         NaN          NaN              NaN         2.0   \n",
       "122           NaN         NaN          NaN              NaN         2.0   \n",
       "123           NaN         NaN          NaN              NaN         2.0   \n",
       "124           NaN         NaN          NaN              NaN         2.0   \n",
       "\n",
       "     Verbal IQ  Performance IQ  Full2 IQ  Full4 IQ  Med Status  QC_Athena  \\\n",
       "0        109.0           103.0    -999.0     107.0         1.0        0.0   \n",
       "1        115.0           103.0    -999.0     110.0         2.0        1.0   \n",
       "2        121.0            88.0    -999.0     106.0         1.0        1.0   \n",
       "3        119.0           106.0    -999.0     114.0         1.0        1.0   \n",
       "4        124.0            76.0    -999.0     102.0         1.0        1.0   \n",
       "..         ...             ...       ...       ...         ...        ...   \n",
       "120        NaN             NaN       NaN     124.0         NaN        1.0   \n",
       "121        NaN             NaN       NaN     114.0         NaN        1.0   \n",
       "122        NaN             NaN       NaN     126.0         NaN        1.0   \n",
       "123        NaN             NaN       NaN     128.5         NaN        1.0   \n",
       "124        NaN             NaN       NaN      98.0         NaN        1.0   \n",
       "\n",
       "     QC_NIAK  \n",
       "0        0.0  \n",
       "1        1.0  \n",
       "2        1.0  \n",
       "3        1.0  \n",
       "4        1.0  \n",
       "..       ...  \n",
       "120      1.0  \n",
       "121      1.0  \n",
       "122      1.0  \n",
       "123      1.0  \n",
       "124      1.0  \n",
       "\n",
       "[125 rows x 20 columns]"
      ]
     },
     "execution_count": 14,
     "metadata": {},
     "output_type": "execute_result"
    }
   ],
   "source": [
    "final_tab"
   ]
  },
  {
   "cell_type": "code",
   "execution_count": 15,
   "metadata": {},
   "outputs": [],
   "source": [
    "def average_variance_along(var_matrix, axis):\n",
    "    shape = var_matrix.shape\n",
    "    if axis == 0:\n",
    "        average_matrix = np.zeros((shape[0],shape[2],shape[3]))\n",
    "        for i in range(shape[0]):\n",
    "            for j in range(shape[2]):\n",
    "                for k in range(shape[3]):\n",
    "                    average_matrix[i,j,k] = np.mean(var_matrix[i,:,j,k])\n",
    "    elif axis == 1:\n",
    "        average_matrix = np.zeros((shape[0],shape[1],shape[3]))\n",
    "        for i in range(shape[0]):\n",
    "            for j in range(shape[1]):\n",
    "                for k in range(shape[3]):\n",
    "                    average_matrix[i,j,k] = np.mean(var_matrix[i,j,:,k])\n",
    "    elif axis == 2:\n",
    "        average_matrix = np.zeros((shape[0],shape[1],shape[2]))\n",
    "        for i in range(shape[0]):\n",
    "            for j in range(shape[1]):\n",
    "                for k in range(shape[2]):\n",
    "                    average_matrix[i,j,k] = np.mean(var_matrix[i,j,k,:])\n",
    "    else:\n",
    "        print(\"please enter digit between 0 to 2\")\n",
    "        return shape\n",
    "    return average_matrix"
   ]
  },
  {
   "cell_type": "code",
   "execution_count": 236,
   "metadata": {},
   "outputs": [],
   "source": [
    "X_train_x = average_variance_along(variance_total, axis = 0)"
   ]
  },
  {
   "cell_type": "code",
   "execution_count": 237,
   "metadata": {},
   "outputs": [],
   "source": [
    "X_train_x = X_train_x.reshape(X_train_x.shape[0],1,X_train_x.shape[1],X_train_x.shape[2])"
   ]
  },
  {
   "cell_type": "code",
   "execution_count": 238,
   "metadata": {},
   "outputs": [],
   "source": [
    "X_train_y = average_variance_along(variance_total, axis = 1)\n",
    "X_train_z = average_variance_along(variance_total, axis = 2)"
   ]
  },
  {
   "cell_type": "code",
   "execution_count": 239,
   "metadata": {},
   "outputs": [],
   "source": [
    "X_train_y = X_train_y.reshape(X_train_y.shape[0],1,X_train_y.shape[1],X_train_y.shape[2])\n",
    "X_train_z = X_train_z.reshape(X_train_z.shape[0],1,X_train_z.shape[1],X_train_z.shape[2])"
   ]
  },
  {
   "cell_type": "code",
   "execution_count": 240,
   "metadata": {},
   "outputs": [],
   "source": [
    "y_train = np.array(final_tab[\"DX\"])\n",
    "y_train = keras.utils.to_categorical(y_train, num_classes=4)"
   ]
  },
  {
   "cell_type": "code",
   "execution_count": 241,
   "metadata": {},
   "outputs": [],
   "source": [
    "X_train_x, X_test_x, X_train_y, X_test_y, X_train_z, X_test_z, y_train, y_test = train_test_split(X_train_x, X_train_y, X_train_z, y_train, test_size=0.15, random_state=42)"
   ]
  },
  {
   "cell_type": "code",
   "execution_count": 183,
   "metadata": {},
   "outputs": [],
   "source": [
    "adhd_model = md.get_model([(X_train_x.shape[1],X_train_x.shape[2],X_train_x.shape[3]), \n",
    "                           (X_train_y.shape[1],X_train_y.shape[2],X_train_y.shape[3]), \n",
    "                           (X_train_z.shape[1],X_train_z.shape[2], X_train_z.shape[3])])"
   ]
  },
  {
   "cell_type": "code",
   "execution_count": 184,
   "metadata": {
    "scrolled": false
   },
   "outputs": [
    {
     "name": "stdout",
     "output_type": "stream",
     "text": [
      "__________________________________________________________________________________________________\n",
      "Layer (type)                    Output Shape         Param #     Connected to                     \n",
      "==================================================================================================\n",
      "conv2d_61_input (InputLayer)    (None, 1, 64, 46)    0                                            \n",
      "__________________________________________________________________________________________________\n",
      "conv2d_63_input (InputLayer)    (None, 1, 53, 46)    0                                            \n",
      "__________________________________________________________________________________________________\n",
      "conv2d_65_input (InputLayer)    (None, 1, 53, 64)    0                                            \n",
      "__________________________________________________________________________________________________\n",
      "conv2d_61 (Conv2D)              (None, 32, 62, 44)   320         conv2d_61_input[0][0]            \n",
      "__________________________________________________________________________________________________\n",
      "conv2d_63 (Conv2D)              (None, 32, 51, 44)   320         conv2d_63_input[0][0]            \n",
      "__________________________________________________________________________________________________\n",
      "conv2d_65 (Conv2D)              (None, 32, 51, 62)   320         conv2d_65_input[0][0]            \n",
      "__________________________________________________________________________________________________\n",
      "max_pooling2d_61 (MaxPooling2D) (None, 16, 31, 44)   0           conv2d_61[0][0]                  \n",
      "__________________________________________________________________________________________________\n",
      "max_pooling2d_63 (MaxPooling2D) (None, 16, 25, 44)   0           conv2d_63[0][0]                  \n",
      "__________________________________________________________________________________________________\n",
      "max_pooling2d_65 (MaxPooling2D) (None, 16, 25, 62)   0           conv2d_65[0][0]                  \n",
      "__________________________________________________________________________________________________\n",
      "conv2d_62 (Conv2D)              (None, 14, 29, 15)   5955        max_pooling2d_61[0][0]           \n",
      "__________________________________________________________________________________________________\n",
      "conv2d_64 (Conv2D)              (None, 14, 23, 15)   5955        max_pooling2d_63[0][0]           \n",
      "__________________________________________________________________________________________________\n",
      "conv2d_66 (Conv2D)              (None, 14, 23, 15)   8385        max_pooling2d_65[0][0]           \n",
      "__________________________________________________________________________________________________\n",
      "max_pooling2d_62 (MaxPooling2D) (None, 7, 14, 15)    0           conv2d_62[0][0]                  \n",
      "__________________________________________________________________________________________________\n",
      "max_pooling2d_64 (MaxPooling2D) (None, 7, 11, 15)    0           conv2d_64[0][0]                  \n",
      "__________________________________________________________________________________________________\n",
      "max_pooling2d_66 (MaxPooling2D) (None, 7, 11, 15)    0           conv2d_66[0][0]                  \n",
      "__________________________________________________________________________________________________\n",
      "dropout_31 (Dropout)            (None, 7, 14, 15)    0           max_pooling2d_62[0][0]           \n",
      "__________________________________________________________________________________________________\n",
      "dropout_32 (Dropout)            (None, 7, 11, 15)    0           max_pooling2d_64[0][0]           \n",
      "__________________________________________________________________________________________________\n",
      "dropout_33 (Dropout)            (None, 7, 11, 15)    0           max_pooling2d_66[0][0]           \n",
      "__________________________________________________________________________________________________\n",
      "flatten_31 (Flatten)            (None, 1470)         0           dropout_31[0][0]                 \n",
      "__________________________________________________________________________________________________\n",
      "flatten_32 (Flatten)            (None, 1155)         0           dropout_32[0][0]                 \n",
      "__________________________________________________________________________________________________\n",
      "flatten_33 (Flatten)            (None, 1155)         0           dropout_33[0][0]                 \n",
      "__________________________________________________________________________________________________\n",
      "concatenate_11 (Concatenate)    (None, 3780)         0           flatten_31[0][0]                 \n",
      "                                                                 flatten_32[0][0]                 \n",
      "                                                                 flatten_33[0][0]                 \n",
      "__________________________________________________________________________________________________\n",
      "dense_29 (Dense)                (None, 64)           241984      concatenate_11[0][0]             \n",
      "__________________________________________________________________________________________________\n",
      "dense_30 (Dense)                (None, 32)           2080        dense_29[0][0]                   \n",
      "__________________________________________________________________________________________________\n",
      "dense_31 (Dense)                (None, 4)            132         dense_30[0][0]                   \n",
      "==================================================================================================\n",
      "Total params: 265,451\n",
      "Trainable params: 265,451\n",
      "Non-trainable params: 0\n",
      "__________________________________________________________________________________________________\n"
     ]
    }
   ],
   "source": [
    "adhd_model.summary()"
   ]
  },
  {
   "cell_type": "code",
   "execution_count": 185,
   "metadata": {
    "scrolled": true
   },
   "outputs": [
    {
     "name": "stdout",
     "output_type": "stream",
     "text": [
      "Train on 84 samples, validate on 22 samples\n",
      "Epoch 1/15\n",
      "84/84 [==============================] - 4s 50ms/step - loss: 5.6271 - acc: 0.4167 - val_loss: 2.8332 - val_acc: 0.6364\n",
      "Epoch 2/15\n",
      "84/84 [==============================] - 2s 28ms/step - loss: 4.1658 - acc: 0.5476 - val_loss: 2.7638 - val_acc: 0.6364\n",
      "Epoch 3/15\n",
      "84/84 [==============================] - 2s 25ms/step - loss: 3.9079 - acc: 0.5476 - val_loss: 2.6627 - val_acc: 0.6364\n",
      "Epoch 4/15\n",
      "84/84 [==============================] - 2s 27ms/step - loss: 3.5650 - acc: 0.5833 - val_loss: 2.6502 - val_acc: 0.5909\n",
      "Epoch 5/15\n",
      "84/84 [==============================] - 2s 22ms/step - loss: 3.7700 - acc: 0.6071 - val_loss: 2.6579 - val_acc: 0.5909\n",
      "Epoch 6/15\n",
      "84/84 [==============================] - 2s 23ms/step - loss: 3.8200 - acc: 0.5833 - val_loss: 2.6745 - val_acc: 0.6364\n",
      "Epoch 7/15\n",
      "84/84 [==============================] - 2s 22ms/step - loss: 3.8061 - acc: 0.5833 - val_loss: 2.7679 - val_acc: 0.6364\n",
      "Epoch 8/15\n",
      "84/84 [==============================] - 2s 27ms/step - loss: 3.9210 - acc: 0.5476 - val_loss: 2.8228 - val_acc: 0.6364\n",
      "Epoch 9/15\n",
      "84/84 [==============================] - 2s 27ms/step - loss: 4.0016 - acc: 0.5476 - val_loss: 2.8201 - val_acc: 0.6364\n",
      "Epoch 10/15\n",
      "84/84 [==============================] - 2s 24ms/step - loss: 3.9925 - acc: 0.5595 - val_loss: 2.7846 - val_acc: 0.6364\n",
      "Epoch 11/15\n",
      "84/84 [==============================] - 2s 23ms/step - loss: 3.9115 - acc: 0.5714 - val_loss: 2.7338 - val_acc: 0.6364\n",
      "Epoch 12/15\n",
      "84/84 [==============================] - 2s 28ms/step - loss: 3.8581 - acc: 0.5833 - val_loss: 2.6871 - val_acc: 0.6364\n",
      "Epoch 13/15\n",
      "84/84 [==============================] - 2s 23ms/step - loss: 3.7910 - acc: 0.5952 - val_loss: 2.6555 - val_acc: 0.6364\n",
      "Epoch 14/15\n",
      "84/84 [==============================] - 2s 25ms/step - loss: 3.7571 - acc: 0.6310 - val_loss: 2.6422 - val_acc: 0.5909\n",
      "Epoch 15/15\n",
      "84/84 [==============================] - 2s 25ms/step - loss: 3.7448 - acc: 0.6429 - val_loss: 2.6399 - val_acc: 0.5909\n"
     ]
    }
   ],
   "source": [
    "adhd_model_trained, history = md.train(adhd_model,[X_train_x, X_train_y, X_train_z], y_train)"
   ]
  },
  {
   "cell_type": "code",
   "execution_count": 85,
   "metadata": {},
   "outputs": [
    {
     "name": "stdout",
     "output_type": "stream",
     "text": [
      "\r",
      "16/16 [==============================] - 0s 11ms/step\n"
     ]
    }
   ],
   "source": [
    "test_result = adhd_model_trained.evaluate([X_test_x, X_test_y, X_test_z], y_test)"
   ]
  },
  {
   "cell_type": "code",
   "execution_count": 86,
   "metadata": {},
   "outputs": [
    {
     "data": {
      "text/plain": [
       "0.625"
      ]
     },
     "execution_count": 86,
     "metadata": {},
     "output_type": "execute_result"
    }
   ],
   "source": [
    "test_result[1]"
   ]
  },
  {
   "cell_type": "code",
   "execution_count": 133,
   "metadata": {},
   "outputs": [],
   "source": [
    "fe1_h1 = Model(inputs = adhd_model.inputs[0], outputs = adhd_model.layers[3].output)"
   ]
  },
  {
   "cell_type": "code",
   "execution_count": 134,
   "metadata": {},
   "outputs": [
    {
     "name": "stdout",
     "output_type": "stream",
     "text": [
      "_________________________________________________________________\n",
      "Layer (type)                 Output Shape              Param #   \n",
      "=================================================================\n",
      "conv2d_43_input (InputLayer) (None, 1, 64, 46)         0         \n",
      "_________________________________________________________________\n",
      "conv2d_43 (Conv2D)           (None, 32, 62, 44)        320       \n",
      "=================================================================\n",
      "Total params: 320\n",
      "Trainable params: 320\n",
      "Non-trainable params: 0\n",
      "_________________________________________________________________\n"
     ]
    }
   ],
   "source": [
    "fe1.summary()"
   ]
  },
  {
   "cell_type": "code",
   "execution_count": 154,
   "metadata": {},
   "outputs": [],
   "source": [
    "fe2_h1 = Model(inputs = adhd_model.inputs[1], outputs = adhd_model.layers[4].output)"
   ]
  },
  {
   "cell_type": "code",
   "execution_count": 103,
   "metadata": {},
   "outputs": [
    {
     "name": "stdout",
     "output_type": "stream",
     "text": [
      "_________________________________________________________________\n",
      "Layer (type)                 Output Shape              Param #   \n",
      "=================================================================\n",
      "conv2d_45_input (InputLayer) (None, 1, 53, 46)         0         \n",
      "_________________________________________________________________\n",
      "conv2d_45 (Conv2D)           (None, 32, 51, 44)        320       \n",
      "=================================================================\n",
      "Total params: 320\n",
      "Trainable params: 320\n",
      "Non-trainable params: 0\n",
      "_________________________________________________________________\n"
     ]
    }
   ],
   "source": [
    "fe2_h1.summary()"
   ]
  },
  {
   "cell_type": "code",
   "execution_count": 155,
   "metadata": {},
   "outputs": [],
   "source": [
    "fe3_h1 = Model(inputs = adhd_model.inputs[2], outputs = adhd_model.layers[5].output)"
   ]
  },
  {
   "cell_type": "code",
   "execution_count": 156,
   "metadata": {},
   "outputs": [],
   "source": [
    "fe1_h2 = Model(inputs = adhd_model.inputs[0], outputs = adhd_model.layers[9].output)"
   ]
  },
  {
   "cell_type": "code",
   "execution_count": 123,
   "metadata": {},
   "outputs": [
    {
     "name": "stdout",
     "output_type": "stream",
     "text": [
      "_________________________________________________________________\n",
      "Layer (type)                 Output Shape              Param #   \n",
      "=================================================================\n",
      "conv2d_43_input (InputLayer) (None, 1, 64, 46)         0         \n",
      "_________________________________________________________________\n",
      "conv2d_43 (Conv2D)           (None, 32, 62, 44)        320       \n",
      "_________________________________________________________________\n",
      "max_pooling2d_43 (MaxPooling (None, 16, 31, 44)        0         \n",
      "_________________________________________________________________\n",
      "conv2d_44 (Conv2D)           (None, 14, 29, 15)        5955      \n",
      "=================================================================\n",
      "Total params: 6,275\n",
      "Trainable params: 6,275\n",
      "Non-trainable params: 0\n",
      "_________________________________________________________________\n"
     ]
    }
   ],
   "source": [
    "fe1_h2.summary()"
   ]
  },
  {
   "cell_type": "code",
   "execution_count": 157,
   "metadata": {},
   "outputs": [],
   "source": [
    "fe2_h2 = Model(inputs = adhd_model.inputs[1], outputs = adhd_model.layers[10].output)\n",
    "fe2_h3 = Model(inputs = adhd_model.inputs[2], outputs = adhd_model.layers[11].output)"
   ]
  },
  {
   "cell_type": "code",
   "execution_count": 137,
   "metadata": {},
   "outputs": [],
   "source": [
    "feature_map_11 = fe1_h1.predict(X_train_x[5].reshape(1,X_train_x.shape[1],X_train_x.shape[2],X_train_x.shape[3]))"
   ]
  },
  {
   "cell_type": "code",
   "execution_count": 138,
   "metadata": {},
   "outputs": [
    {
     "data": {
      "text/plain": [
       "(1, 32, 62, 44)"
      ]
     },
     "execution_count": 138,
     "metadata": {},
     "output_type": "execute_result"
    }
   ],
   "source": [
    "feature_map.shape"
   ]
  },
  {
   "cell_type": "code",
   "execution_count": 152,
   "metadata": {},
   "outputs": [
    {
     "data": {
      "text/plain": [
       "<matplotlib.colorbar.Colorbar at 0x1e50fc34a8>"
      ]
     },
     "execution_count": 152,
     "metadata": {},
     "output_type": "execute_result"
    },
    {
     "data": {
      "image/png": "[encoded data removed]",
      "text/plain": [
       "<Figure size 720x576 with 2 Axes>"
      ]
     },
     "metadata": {
      "needs_background": "light"
     },
     "output_type": "display_data"
    }
   ],
   "source": [
    "plt.imshow(X_train_x[5][0])\n",
    "plt.colorbar()"
   ]
  },
  {
   "cell_type": "code",
   "execution_count": 149,
   "metadata": {},
   "outputs": [
    {
     "data": {
      "image/png": "[encoded data removed]",
      "text/plain": [
       "<Figure size 720x576 with 32 Axes>"
      ]
     },
     "metadata": {},
     "output_type": "display_data"
    }
   ],
   "source": [
    "plt.rcParams['figure.figsize'] = 10, 8\n",
    "length = 4\n",
    "width = 8\n",
    "ix = 1\n",
    "for i in range(length):\n",
    "    for j in range(width):\n",
    "        # specify subplot and turn of axis\n",
    "        ax = plt.subplot(length, width, ix)\n",
    "        ax.set_xticks([])\n",
    "        ax.set_yticks([])\n",
    "        # plot filter channel in grayscale\n",
    "        plt.imshow(feature_map[0, :, :, ix-1], cmap='gray')\n",
    "        ix += 1"
   ]
  },
  {
   "cell_type": "code",
   "execution_count": 158,
   "metadata": {},
   "outputs": [],
   "source": [
    "feature_map_12 = fe1_h2.predict(X_train_x[5].reshape(1,X_train_x.shape[1],X_train_x.shape[2],X_train_x.shape[3]))"
   ]
  },
  {
   "cell_type": "code",
   "execution_count": 160,
   "metadata": {},
   "outputs": [
    {
     "data": {
      "image/png": "[encoded data removed]",
      "text/plain": [
       "<Figure size 720x576 with 15 Axes>"
      ]
     },
     "metadata": {},
     "output_type": "display_data"
    }
   ],
   "source": [
    "plt.rcParams['figure.figsize'] = 10, 8\n",
    "length = 3\n",
    "width = 5\n",
    "ix = 1\n",
    "for i in range(length):\n",
    "    for j in range(width):\n",
    "        # specify subplot and turn of axis\n",
    "        ax = plt.subplot(length, width, ix)\n",
    "        ax.set_xticks([])\n",
    "        ax.set_yticks([])\n",
    "        # plot filter channel in grayscale\n",
    "        plt.imshow(feature_map_12[0, :, :, ix-1], cmap='gray')\n",
    "        ix += 1"
   ]
  },
  {
   "cell_type": "code",
   "execution_count": 165,
   "metadata": {},
   "outputs": [],
   "source": [
    "mean_beijing = []\n",
    "for subject in data_beijing:\n",
    "    mean_beijing.append(ut.averaging_slide(subject))\n",
    "mean_beijing = np.array(mean_beijing)"
   ]
  },
  {
   "cell_type": "code",
   "execution_count": 166,
   "metadata": {},
   "outputs": [],
   "source": [
    "mean_ohsu = []\n",
    "for subject in data_ohsu:\n",
    "    mean_ohsu.append(ut.averaging_slide(subject))\n",
    "mean_ohsu = np.array(mean_ohsu)"
   ]
  },
  {
   "cell_type": "code",
   "execution_count": 167,
   "metadata": {},
   "outputs": [],
   "source": [
    "mean_nyu = []\n",
    "for subject in data_nyu:\n",
    "    mean_nyu.append(ut.averaging_slide(subject))\n",
    "mean_nyu = np.array(mean_nyu)"
   ]
  },
  {
   "cell_type": "code",
   "execution_count": 170,
   "metadata": {},
   "outputs": [],
   "source": [
    "mean_total = np.append(mean_beijing, mean_nyu, axis = 0)\n",
    "mean_total = np.append(mean_total, mean_ohsu, axis = 0)"
   ]
  },
  {
   "cell_type": "code",
   "execution_count": 188,
   "metadata": {},
   "outputs": [],
   "source": [
    "X_train_x = average_variance_along(mean_total, axis = 0)\n",
    "X_train_y = average_variance_along(mean_total, axis = 1)\n",
    "X_train_z = average_variance_along(mean_total, axis = 2)\n",
    "X_train_x = X_train_x.reshape(X_train_x.shape[0],1,X_train_x.shape[1],X_train_x.shape[2])\n",
    "X_train_y = X_train_y.reshape(X_train_y.shape[0],1,X_train_y.shape[1],X_train_y.shape[2])\n",
    "X_train_z = X_train_z.reshape(X_train_z.shape[0],1,X_train_z.shape[1],X_train_z.shape[2])"
   ]
  },
  {
   "cell_type": "code",
   "execution_count": 210,
   "metadata": {},
   "outputs": [],
   "source": [
    "y_train = np.array(final_tab[\"DX\"])\n",
    "y_train = keras.utils.to_categorical(y_train, num_classes=4)"
   ]
  },
  {
   "cell_type": "code",
   "execution_count": 190,
   "metadata": {},
   "outputs": [],
   "source": [
    "X_train_x, X_test_x, X_train_y, X_test_y, X_train_z, X_test_z, y_train, y_test = train_test_split(X_train_x, X_train_y, X_train_z, y_train, test_size=0.15, random_state=42)"
   ]
  },
  {
   "cell_type": "code",
   "execution_count": 191,
   "metadata": {},
   "outputs": [],
   "source": [
    "adhd_model_m = md.get_model([(X_train_x.shape[1],X_train_x.shape[2],X_train_x.shape[3]), \n",
    "                           (X_train_y.shape[1],X_train_y.shape[2],X_train_y.shape[3]), \n",
    "                           (X_train_z.shape[1],X_train_z.shape[2], X_train_z.shape[3])])"
   ]
  },
  {
   "cell_type": "code",
   "execution_count": 192,
   "metadata": {
    "scrolled": true
   },
   "outputs": [
    {
     "name": "stdout",
     "output_type": "stream",
     "text": [
      "Train on 84 samples, validate on 22 samples\n",
      "Epoch 1/15\n",
      "84/84 [==============================] - 4s 53ms/step - loss: 13.8553 - acc: 0.0833 - val_loss: 16.1181 - val_acc: 0.0000e+00\n",
      "Epoch 2/15\n",
      "84/84 [==============================] - 2s 21ms/step - loss: 15.7343 - acc: 0.0238 - val_loss: 16.1181 - val_acc: 0.0000e+00\n",
      "Epoch 3/15\n",
      "84/84 [==============================] - 2s 22ms/step - loss: 15.7343 - acc: 0.0238 - val_loss: 16.1181 - val_acc: 0.0000e+00\n",
      "Epoch 4/15\n",
      "84/84 [==============================] - 2s 22ms/step - loss: 15.7343 - acc: 0.0238 - val_loss: 16.1181 - val_acc: 0.0000e+00\n",
      "Epoch 5/15\n",
      "84/84 [==============================] - 2s 21ms/step - loss: 15.7343 - acc: 0.0238 - val_loss: 16.1181 - val_acc: 0.0000e+00\n",
      "Epoch 6/15\n",
      "84/84 [==============================] - 2s 21ms/step - loss: 15.7343 - acc: 0.0238 - val_loss: 16.1181 - val_acc: 0.0000e+00\n",
      "Epoch 7/15\n",
      "84/84 [==============================] - 2s 22ms/step - loss: 15.7343 - acc: 0.0238 - val_loss: 16.1181 - val_acc: 0.0000e+00\n",
      "Epoch 8/15\n",
      "84/84 [==============================] - 2s 21ms/step - loss: 15.7343 - acc: 0.0238 - val_loss: 16.1181 - val_acc: 0.0000e+00\n",
      "Epoch 9/15\n",
      "84/84 [==============================] - 2s 20ms/step - loss: 15.7343 - acc: 0.0238 - val_loss: 16.1181 - val_acc: 0.0000e+00\n",
      "Epoch 10/15\n",
      "84/84 [==============================] - 2s 22ms/step - loss: 15.7343 - acc: 0.0238 - val_loss: 16.1181 - val_acc: 0.0000e+00\n",
      "Epoch 11/15\n",
      "84/84 [==============================] - 2s 20ms/step - loss: 15.7343 - acc: 0.0238 - val_loss: 16.1181 - val_acc: 0.0000e+00\n",
      "Epoch 12/15\n",
      "84/84 [==============================] - 2s 21ms/step - loss: 15.7343 - acc: 0.0238 - val_loss: 16.1181 - val_acc: 0.0000e+00\n",
      "Epoch 13/15\n",
      "84/84 [==============================] - 2s 22ms/step - loss: 15.7343 - acc: 0.0238 - val_loss: 16.1181 - val_acc: 0.0000e+00\n",
      "Epoch 14/15\n",
      "84/84 [==============================] - 2s 23ms/step - loss: 15.7343 - acc: 0.0238 - val_loss: 16.1181 - val_acc: 0.0000e+00\n",
      "Epoch 15/15\n",
      "84/84 [==============================] - 2s 20ms/step - loss: 15.7343 - acc: 0.0238 - val_loss: 16.1181 - val_acc: 0.0000e+00\n"
     ]
    }
   ],
   "source": [
    "adhd_model_trained_m, history = md.train(adhd_model_m,[X_train_x, X_train_y, X_train_z], y_train)"
   ]
  },
  {
   "cell_type": "code",
   "execution_count": 203,
   "metadata": {},
   "outputs": [],
   "source": [
    "adhd_new_model = md.feature_extractor((variance_total.shape[1],variance_total.shape[2],variance_total.shape[3]))"
   ]
  },
  {
   "cell_type": "code",
   "execution_count": 206,
   "metadata": {},
   "outputs": [],
   "source": [
    "adhd_new_model.add(Dense(64, activation='relu'))\n",
    "adhd_new_model.add(Dense(32, activation='relu'))\n",
    "adhd_new_model.add(Dense(4, activation = 'softmax'))"
   ]
  },
  {
   "cell_type": "code",
   "execution_count": 212,
   "metadata": {},
   "outputs": [],
   "source": [
    "y_train = np.array(final_tab[\"DX\"])\n",
    "y_train = keras.utils.to_categorical(y_train, num_classes=4)"
   ]
  },
  {
   "cell_type": "code",
   "execution_count": 213,
   "metadata": {},
   "outputs": [],
   "source": [
    "X_train, X_test, y_train, y_test = train_test_split(variance_total, y_train, test_size=0.15, random_state=42)"
   ]
  },
  {
   "cell_type": "code",
   "execution_count": 214,
   "metadata": {
    "scrolled": true
   },
   "outputs": [
    {
     "name": "stdout",
     "output_type": "stream",
     "text": [
      "Train on 84 samples, validate on 22 samples\n",
      "Epoch 1/15\n",
      "84/84 [==============================] - 4s 46ms/step - loss: 9.3715 - acc: 0.2857 - val_loss: 6.7276 - val_acc: 0.3636\n",
      "Epoch 2/15\n",
      "84/84 [==============================] - 1s 17ms/step - loss: 7.2201 - acc: 0.4524 - val_loss: 10.6050 - val_acc: 0.1818\n",
      "Epoch 3/15\n",
      "84/84 [==============================] - 1s 15ms/step - loss: 8.5401 - acc: 0.3929 - val_loss: 9.8529 - val_acc: 0.1818\n",
      "Epoch 4/15\n",
      "84/84 [==============================] - 1s 18ms/step - loss: 6.9924 - acc: 0.5119 - val_loss: 6.3698 - val_acc: 0.4091\n",
      "Epoch 5/15\n",
      "84/84 [==============================] - 1s 15ms/step - loss: 5.2629 - acc: 0.5714 - val_loss: 4.9825 - val_acc: 0.5455\n",
      "Epoch 6/15\n",
      "84/84 [==============================] - 1s 15ms/step - loss: 4.0645 - acc: 0.6786 - val_loss: 5.1773 - val_acc: 0.5455\n",
      "Epoch 7/15\n",
      "84/84 [==============================] - 1s 17ms/step - loss: 4.6850 - acc: 0.5833 - val_loss: 5.1793 - val_acc: 0.5455\n",
      "Epoch 8/15\n",
      "84/84 [==============================] - 1s 16ms/step - loss: 5.0925 - acc: 0.5714 - val_loss: 5.6769 - val_acc: 0.5000\n",
      "Epoch 9/15\n",
      "84/84 [==============================] - 1s 15ms/step - loss: 5.8762 - acc: 0.5833 - val_loss: 9.8978 - val_acc: 0.1818\n",
      "Epoch 10/15\n",
      "84/84 [==============================] - 1s 16ms/step - loss: 6.9800 - acc: 0.5238 - val_loss: 10.5955 - val_acc: 0.2273\n",
      "Epoch 11/15\n",
      "84/84 [==============================] - 1s 16ms/step - loss: 7.2541 - acc: 0.4762 - val_loss: 4.7796 - val_acc: 0.5909\n",
      "Epoch 12/15\n",
      "84/84 [==============================] - 1s 16ms/step - loss: 4.7230 - acc: 0.6190 - val_loss: 4.3515 - val_acc: 0.6364\n",
      "Epoch 13/15\n",
      "84/84 [==============================] - 1s 16ms/step - loss: 4.2017 - acc: 0.6667 - val_loss: 4.5553 - val_acc: 0.6364\n",
      "Epoch 14/15\n",
      "84/84 [==============================] - 1s 16ms/step - loss: 4.6007 - acc: 0.6190 - val_loss: 4.6331 - val_acc: 0.6364\n",
      "Epoch 15/15\n",
      "84/84 [==============================] - 1s 17ms/step - loss: 4.5539 - acc: 0.6310 - val_loss: 4.5048 - val_acc: 0.5909\n"
     ]
    }
   ],
   "source": [
    "adhd_new_model, history = md.train(adhd_new_model,X_train, y_train)"
   ]
  },
  {
   "cell_type": "code",
   "execution_count": 216,
   "metadata": {},
   "outputs": [],
   "source": [
    "adhd_new_model.compile(loss='categorical_crossentropy', optimizer='adam', metrics=['accuracy'])"
   ]
  },
  {
   "cell_type": "code",
   "execution_count": 217,
   "metadata": {},
   "outputs": [
    {
     "name": "stdout",
     "output_type": "stream",
     "text": [
      "\r",
      "19/19 [==============================] - 2s 87ms/step\n"
     ]
    },
    {
     "data": {
      "text/plain": [
       "[9.075955390930176, 0.3684210479259491]"
      ]
     },
     "execution_count": 217,
     "metadata": {},
     "output_type": "execute_result"
    }
   ],
   "source": [
    "adhd_new_model.evaluate(X_test,y_test)"
   ]
  },
  {
   "cell_type": "code",
   "execution_count": 218,
   "metadata": {},
   "outputs": [],
   "source": [
    "adhd_new_model_m = md.feature_extractor((mean_total.shape[1],mean_total.shape[2],mean_total.shape[3]))"
   ]
  },
  {
   "cell_type": "code",
   "execution_count": 219,
   "metadata": {},
   "outputs": [],
   "source": [
    "adhd_new_model_m.add(Dense(64, activation='relu'))\n",
    "adhd_new_model_m.add(Dense(32, activation='relu'))\n",
    "adhd_new_model_m.add(Dense(4, activation = 'softmax'))"
   ]
  },
  {
   "cell_type": "code",
   "execution_count": 220,
   "metadata": {},
   "outputs": [],
   "source": [
    "y_train = np.array(final_tab[\"DX\"])\n",
    "y_train = keras.utils.to_categorical(y_train, num_classes=4)"
   ]
  },
  {
   "cell_type": "code",
   "execution_count": 221,
   "metadata": {},
   "outputs": [],
   "source": [
    "X_train, X_test, y_train, y_test = train_test_split(mean_total, y_train, test_size=0.15, random_state=42)"
   ]
  },
  {
   "cell_type": "code",
   "execution_count": 222,
   "metadata": {
    "scrolled": true
   },
   "outputs": [
    {
     "name": "stdout",
     "output_type": "stream",
     "text": [
      "Train on 84 samples, validate on 22 samples\n",
      "Epoch 1/15\n",
      "84/84 [==============================] - 3s 38ms/step - loss: 11.5810 - acc: 0.2619 - val_loss: 13.1875 - val_acc: 0.1818\n",
      "Epoch 2/15\n",
      "84/84 [==============================] - 1s 15ms/step - loss: 11.7048 - acc: 0.2738 - val_loss: 13.1875 - val_acc: 0.1818\n",
      "Epoch 3/15\n",
      "84/84 [==============================] - 1s 16ms/step - loss: 11.7048 - acc: 0.2738 - val_loss: 13.1875 - val_acc: 0.1818\n",
      "Epoch 4/15\n",
      "84/84 [==============================] - 1s 18ms/step - loss: 11.7048 - acc: 0.2738 - val_loss: 13.1875 - val_acc: 0.1818\n",
      "Epoch 5/15\n",
      "84/84 [==============================] - 1s 15ms/step - loss: 11.7048 - acc: 0.2738 - val_loss: 13.1875 - val_acc: 0.1818\n",
      "Epoch 6/15\n",
      "84/84 [==============================] - 1s 15ms/step - loss: 11.7048 - acc: 0.2738 - val_loss: 13.1875 - val_acc: 0.1818\n",
      "Epoch 7/15\n",
      "84/84 [==============================] - 1s 16ms/step - loss: 11.7048 - acc: 0.2738 - val_loss: 13.1875 - val_acc: 0.1818\n",
      "Epoch 8/15\n",
      "84/84 [==============================] - 1s 16ms/step - loss: 11.7048 - acc: 0.2738 - val_loss: 13.1875 - val_acc: 0.1818\n",
      "Epoch 9/15\n",
      "84/84 [==============================] - 1s 15ms/step - loss: 11.7048 - acc: 0.2738 - val_loss: 13.1875 - val_acc: 0.1818\n",
      "Epoch 10/15\n",
      "84/84 [==============================] - 1s 16ms/step - loss: 11.7048 - acc: 0.2738 - val_loss: 13.1875 - val_acc: 0.1818\n",
      "Epoch 11/15\n",
      "84/84 [==============================] - 1s 18ms/step - loss: 11.7048 - acc: 0.2738 - val_loss: 13.1875 - val_acc: 0.1818\n",
      "Epoch 12/15\n",
      "84/84 [==============================] - 2s 18ms/step - loss: 11.7048 - acc: 0.2738 - val_loss: 13.1875 - val_acc: 0.1818\n",
      "Epoch 13/15\n",
      "84/84 [==============================] - 2s 18ms/step - loss: 11.7048 - acc: 0.2738 - val_loss: 13.1875 - val_acc: 0.1818\n",
      "Epoch 14/15\n",
      "84/84 [==============================] - 1s 17ms/step - loss: 11.7048 - acc: 0.2738 - val_loss: 13.1875 - val_acc: 0.1818\n",
      "Epoch 15/15\n",
      "84/84 [==============================] - 1s 16ms/step - loss: 11.7048 - acc: 0.2738 - val_loss: 13.1875 - val_acc: 0.1818\n"
     ]
    }
   ],
   "source": [
    "adhd_new_model_m, history = md.train(adhd_new_model_m,X_train, y_train)"
   ]
  },
  {
   "cell_type": "code",
   "execution_count": 224,
   "metadata": {
    "scrolled": true
   },
   "outputs": [
    {
     "name": "stdout",
     "output_type": "stream",
     "text": [
      "_________________________________________________________________\n",
      "Layer (type)                 Output Shape              Param #   \n",
      "=================================================================\n",
      "conv2d_81 (Conv2D)           (None, 32, 62, 44)        15296     \n",
      "_________________________________________________________________\n",
      "max_pooling2d_81 (MaxPooling (None, 16, 31, 44)        0         \n",
      "_________________________________________________________________\n",
      "conv2d_82 (Conv2D)           (None, 14, 29, 15)        5955      \n",
      "_________________________________________________________________\n",
      "max_pooling2d_82 (MaxPooling (None, 7, 14, 15)         0         \n",
      "_________________________________________________________________\n",
      "dropout_41 (Dropout)         (None, 7, 14, 15)         0         \n",
      "_________________________________________________________________\n",
      "flatten_41 (Flatten)         (None, 1470)              0         \n",
      "_________________________________________________________________\n",
      "dense_41 (Dense)             (None, 64)                94144     \n",
      "_________________________________________________________________\n",
      "dense_42 (Dense)             (None, 32)                2080      \n",
      "_________________________________________________________________\n",
      "dense_43 (Dense)             (None, 4)                 132       \n",
      "=================================================================\n",
      "Total params: 117,607\n",
      "Trainable params: 117,607\n",
      "Non-trainable params: 0\n",
      "_________________________________________________________________\n"
     ]
    }
   ],
   "source": [
    "adhd_new_model_m.summary()"
   ]
  },
  {
   "cell_type": "code",
   "execution_count": null,
   "metadata": {},
   "outputs": [],
   "source": []
  }
 ],
 "metadata": {
  "kernelspec": {
   "display_name": "Python 3",
   "language": "python",
   "name": "python3"
  },
  "language_info": {
   "codemirror_mode": {
    "name": "ipython",
    "version": 3
   },
   "file_extension": ".py",
   "mimetype": "text/x-python",
   "name": "python",
   "nbconvert_exporter": "python",
   "pygments_lexer": "ipython3",
   "version": "3.6.8"
  }
 },
 "nbformat": 4,
 "nbformat_minor": 2
}
